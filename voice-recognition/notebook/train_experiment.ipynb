{
 "cells": [
  {
   "cell_type": "code",
   "execution_count": 1,
   "id": "7d5efda4-c622-4a04-bb49-f3c8b53e570e",
   "metadata": {},
   "outputs": [
    {
     "name": "stdout",
     "output_type": "stream",
     "text": [
      "Train: (9614, 64, 64, 1), Test: (2404, 64, 64, 1)\n"
     ]
    }
   ],
   "source": [
    "# Setup\n",
    "import os\n",
    "import numpy as np\n",
    "import matplotlib.pyplot as plt\n",
    "from sklearn.model_selection import train_test_split\n",
    "import tensorflow as tf\n",
    "from tensorflow.keras import layers, models\n",
    "from tensorflow.keras.callbacks import EarlyStopping\n",
    "\n",
    "# Load Data\n",
    "DATA_DIR = '../data/spectogram/'\n",
    "X = []\n",
    "y = []\n",
    "\n",
    "def add_noise(spectrogram, noise_level=0.02):\n",
    "    \"\"\"\n",
    "    Add random Gaussian noise to a spectrogram.\n",
    "\n",
    "    Args:\n",
    "        spectrogram (np.ndarray): Normalized spectrogram [0,1]\n",
    "        noise_level (float): Standard deviation of Gaussian noise\n",
    "\n",
    "    Returns:\n",
    "        np.ndarray: Noisy spectrogram, clipped to [0,1]\n",
    "    \"\"\"\n",
    "    noise = np.random.normal(0, noise_level, spectrogram.shape)\n",
    "    return np.clip(spectrogram + noise, 0, 1)\n",
    "\n",
    "# Load spectrograms from both class folders\n",
    "for label, folder in enumerate(['nonhuman', 'human']):\n",
    "    folder_path = os.path.join(DATA_DIR, folder)\n",
    "    for file in os.listdir(folder_path):\n",
    "        if file.endswith('.npy'):\n",
    "            spectrogram = np.load(os.path.join(folder_path, file))\n",
    "            \n",
    "            # Skip invalid or empty spectrograms\n",
    "            if np.max(spectrogram) > -100 and not np.isnan(spectrogram).any():\n",
    "                # Normalize from dB range to [0, 1]\n",
    "                spectrogram = (spectrogram + 80) / 80  \n",
    "                X.append(spectrogram)\n",
    "                y.append(label)\n",
    "\n",
    "                noisy_spec = add_noise(spectrogram, noise_level=0.03)\n",
    "                X.append(noisy_spec)\n",
    "                y.append(label)\n",
    "\n",
    "# Convert to NumPy arrays\n",
    "X = np.array(X)\n",
    "y = np.array(y)\n",
    "\n",
    "# Reshape for CNN input format: (samples, height, width, channels)\n",
    "X = X.reshape(-1, 64, 64, 1)\n",
    "\n",
    "# Split into train and test sets (stratified)\n",
    "X_train, X_test, y_train, y_test = train_test_split(\n",
    "    X, y, test_size=0.2, stratify=y, random_state=42\n",
    ")\n",
    "\n",
    "print(f\"Train: {X_train.shape}, Test: {X_test.shape}\")"
   ]
  },
  {
   "cell_type": "code",
   "execution_count": 2,
   "id": "40fccc65-daa7-49d6-a915-fa7c91f48561",
   "metadata": {},
   "outputs": [
    {
     "name": "stdout",
     "output_type": "stream",
     "text": [
      "Train label distribusi:\n",
      "{0: 3598, 1: 6016}\n",
      "Test label distribusi:\n",
      "{0: 900, 1: 1504}\n",
      "(array([0, 1]), array([3598, 6016], dtype=int64))\n",
      "(array([0, 1]), array([ 900, 1504], dtype=int64))\n",
      "Train min: 0.0, max: 1.0\n",
      "Test min: 0.0, max: 1.0\n",
      "[3598 6016]\n",
      "[ 900 1504]\n"
     ]
    }
   ],
   "source": [
    "import numpy as np\n",
    "\n",
    "print(\"Train label distribusi:\")\n",
    "unique, counts = np.unique(y_train, return_counts=True)\n",
    "print(dict(zip(unique, counts)))\n",
    "\n",
    "print(\"Test label distribusi:\")\n",
    "unique, counts = np.unique(y_test, return_counts=True)\n",
    "print(dict(zip(unique, counts)))\n",
    "\n",
    "print(np.unique(y_train, return_counts=True))\n",
    "print(np.unique(y_test, return_counts=True))\n",
    "\n",
    "print(f\"Train min: {X_train.min()}, max: {X_train.max()}\")\n",
    "print(f\"Test min: {X_test.min()}, max: {X_test.max()}\")\n",
    "\n",
    "print(np.bincount(y_train))\n",
    "print(np.bincount(y_test))"
   ]
  },
  {
   "cell_type": "code",
   "execution_count": null,
   "id": "69d5939f-61a1-4ccd-a71c-60e2e79bcfae",
   "metadata": {},
   "outputs": [
    {
     "name": "stderr",
     "output_type": "stream",
     "text": [
      "C:\\Users\\Asus\\AppData\\Local\\Packages\\PythonSoftwareFoundation.Python.3.12_qbz5n2kfra8p0\\LocalCache\\local-packages\\Python312\\site-packages\\keras\\src\\layers\\convolutional\\base_conv.py:107: UserWarning: Do not pass an `input_shape`/`input_dim` argument to a layer. When using Sequential models, prefer using an `Input(shape)` object as the first layer in the model instead.\n",
      "  super().__init__(activity_regularizer=activity_regularizer, **kwargs)\n",
      "C:\\Users\\Asus\\AppData\\Local\\Packages\\PythonSoftwareFoundation.Python.3.12_qbz5n2kfra8p0\\LocalCache\\local-packages\\Python312\\site-packages\\keras\\src\\trainers\\data_adapters\\py_dataset_adapter.py:121: UserWarning: Your `PyDataset` class should call `super().__init__(**kwargs)` in its constructor. `**kwargs` can include `workers`, `use_multiprocessing`, `max_queue_size`. Do not pass these arguments to `fit()`, as they will be ignored.\n",
      "  self._warn_if_super_not_called()\n"
     ]
    },
    {
     "name": "stdout",
     "output_type": "stream",
     "text": [
      "Epoch 1/50\n"
     ]
    }
   ],
   "source": [
    "import numpy as np\n",
    "import tensorflow as tf\n",
    "from tensorflow.keras import layers, models\n",
    "from sklearn.utils import class_weight\n",
    "from tensorflow.keras.callbacks import EarlyStopping\n",
    "from tensorflow.keras.preprocessing.image import ImageDataGenerator\n",
    "import os\n",
    "from glob import glob\n",
    "\n",
    "# Define CNN model (Input: 64x64x1, Output: binary classification)\n",
    "model = models.Sequential([\n",
    "    layers.Conv2D(32, (3,3), activation='relu', input_shape=(64, 64, 1)),\n",
    "    layers.BatchNormalization(),\n",
    "    layers.Conv2D(32, (3,3), activation='relu'),\n",
    "    layers.BatchNormalization(),\n",
    "    layers.MaxPooling2D((2,2)),\n",
    "\n",
    "    layers.Conv2D(64, (3,3), activation='relu'),\n",
    "    layers.BatchNormalization(),\n",
    "    layers.Conv2D(64, (3,3), activation='relu'),\n",
    "    layers.BatchNormalization(),\n",
    "    layers.MaxPooling2D((2,2)),\n",
    "\n",
    "    layers.Conv2D(128, (3,3), activation='relu'),\n",
    "    layers.BatchNormalization(),\n",
    "    layers.Conv2D(128, (3,3), activation='relu'),\n",
    "    layers.BatchNormalization(),\n",
    "\n",
    "    layers.GlobalAveragePooling2D(),\n",
    "    layers.Dense(128, activation='relu'),\n",
    "    layers.Dropout(0.5),\n",
    "    layers.Dense(1, activation='sigmoid')  # Binary classification (human vs nonhuman)\n",
    "])\n",
    "\n",
    "# Compute class weights to handle class imbalance\n",
    "class_weights = class_weight.compute_class_weight('balanced',\n",
    "                                                  classes=np.unique(y_train),\n",
    "                                                  y=y_train.flatten())\n",
    "\n",
    "class_weights = dict(enumerate(class_weights))\n",
    "\n",
    "# Compile model with Adam optimizer and binary crossentropy loss\n",
    "optimizer = tf.keras.optimizers.Adam(learning_rate=0.0005)\n",
    "\n",
    "model.compile(optimizer=optimizer,\n",
    "              loss='binary_crossentropy',\n",
    "              metrics=['accuracy'])\n",
    "\n",
    "# Early stopping to avoid overfitting\n",
    "early_stop = EarlyStopping(monitor='val_loss', patience=10, restore_best_weights=True)\n",
    "\n",
    "# Data augmentation (only basic zoom, no flips)\n",
    "datagen = ImageDataGenerator(\n",
    "    zoom_range=0.05,\n",
    "    horizontal_flip=False\n",
    ")\n",
    "\n",
    "datagen.fit(X_train)\n",
    "\n",
    "# Learning rate scheduler to reduce LR on plateau\n",
    "reduce_lr = tf.keras.callbacks.ReduceLROnPlateau(\n",
    "    monitor='val_loss',\n",
    "    factor=0.5,\n",
    "    patience=5,\n",
    "    min_lr=1e-6,\n",
    "    verbose=1\n",
    ")\n",
    "\n",
    "# Train model\n",
    "history = model.fit(\n",
    "    datagen.flow(X_train, y_train, batch_size=64),\n",
    "    epochs=50,\n",
    "    validation_data=(X_test, y_test),\n",
    "    callbacks=[early_stop, reduce_lr],\n",
    "    class_weight=class_weights,\n",
    "    verbose=1\n",
    ")\n",
    "\n",
    "# Evaluate on test set\n",
    "test_loss, test_acc = model.evaluate(X_test, y_test, verbose=2)\n",
    "print(f\"Test Accuracy: {test_acc:.4f}\")"
   ]
  },
  {
   "cell_type": "code",
   "execution_count": 4,
   "id": "699eb96b-44a0-4601-9c17-5a68532ab4fa",
   "metadata": {},
   "outputs": [
    {
     "name": "stdout",
     "output_type": "stream",
     "text": [
      "\u001b[1m76/76\u001b[0m \u001b[32m━━━━━━━━━━━━━━━━━━━━\u001b[0m\u001b[37m\u001b[0m \u001b[1m2s\u001b[0m 28ms/step\n",
      "              precision    recall  f1-score   support\n",
      "\n",
      "           0     0.9346    0.9367    0.9356       900\n",
      "           1     0.9621    0.9608    0.9614      1504\n",
      "\n",
      "    accuracy                         0.9517      2404\n",
      "   macro avg     0.9483    0.9487    0.9485      2404\n",
      "weighted avg     0.9518    0.9517    0.9518      2404\n",
      "\n",
      "Confusion Matrix:\n",
      "[[ 843   57]\n",
      " [  59 1445]]\n"
     ]
    }
   ],
   "source": [
    "from sklearn.metrics import classification_report, confusion_matrix\n",
    "\n",
    "y_pred_prob = model.predict(X_test)\n",
    "\n",
    "y_pred = (y_pred_prob > 0.5).astype(int)\n",
    "\n",
    "print(classification_report(y_test, y_pred, digits=4))\n",
    "\n",
    "print(\"Confusion Matrix:\")\n",
    "print(confusion_matrix(y_test, y_pred))"
   ]
  },
  {
   "cell_type": "code",
   "execution_count": 6,
   "id": "0f4710d5-64a5-465b-ba75-5520c6972b46",
   "metadata": {},
   "outputs": [
    {
     "name": "stderr",
     "output_type": "stream",
     "text": [
      "WARNING:absl:Compiled the loaded model, but the compiled metrics have yet to be built. `model.compile_metrics` will be empty until you train or evaluate the model.\n"
     ]
    },
    {
     "name": "stdout",
     "output_type": "stream",
     "text": [
      "INFO:tensorflow:Assets written to: C:\\Users\\Asus\\AppData\\Local\\Temp\\tmp6mmy01_x\\assets\n"
     ]
    },
    {
     "name": "stderr",
     "output_type": "stream",
     "text": [
      "INFO:tensorflow:Assets written to: C:\\Users\\Asus\\AppData\\Local\\Temp\\tmp6mmy01_x\\assets\n"
     ]
    },
    {
     "name": "stdout",
     "output_type": "stream",
     "text": [
      "Saved artifact at 'C:\\Users\\Asus\\AppData\\Local\\Temp\\tmp6mmy01_x'. The following endpoints are available:\n",
      "\n",
      "* Endpoint 'serve'\n",
      "  args_0 (POSITIONAL_ONLY): TensorSpec(shape=(None, 64, 64, 1), dtype=tf.float32, name='input_layer_5')\n",
      "Output Type:\n",
      "  TensorSpec(shape=(None, 1), dtype=tf.float32, name=None)\n",
      "Captures:\n",
      "  2021703740560: TensorSpec(shape=(), dtype=tf.resource, name=None)\n",
      "  2023375977936: TensorSpec(shape=(), dtype=tf.resource, name=None)\n",
      "  2023375976208: TensorSpec(shape=(), dtype=tf.resource, name=None)\n",
      "  2023375977168: TensorSpec(shape=(), dtype=tf.resource, name=None)\n",
      "  2023375976400: TensorSpec(shape=(), dtype=tf.resource, name=None)\n",
      "  2023375977744: TensorSpec(shape=(), dtype=tf.resource, name=None)\n",
      "  2023375971984: TensorSpec(shape=(), dtype=tf.resource, name=None)\n",
      "  2023375975824: TensorSpec(shape=(), dtype=tf.resource, name=None)\n",
      "  2023375974288: TensorSpec(shape=(), dtype=tf.resource, name=None)\n",
      "  2023375974096: TensorSpec(shape=(), dtype=tf.resource, name=None)\n",
      "  2023375976592: TensorSpec(shape=(), dtype=tf.resource, name=None)\n",
      "  2023375973520: TensorSpec(shape=(), dtype=tf.resource, name=None)\n",
      "  2023375975056: TensorSpec(shape=(), dtype=tf.resource, name=None)\n",
      "  2023375975440: TensorSpec(shape=(), dtype=tf.resource, name=None)\n",
      "  2023375973136: TensorSpec(shape=(), dtype=tf.resource, name=None)\n",
      "  2023375973712: TensorSpec(shape=(), dtype=tf.resource, name=None)\n",
      "  2023375972176: TensorSpec(shape=(), dtype=tf.resource, name=None)\n",
      "  2023376404752: TensorSpec(shape=(), dtype=tf.resource, name=None)\n",
      "  2023376405904: TensorSpec(shape=(), dtype=tf.resource, name=None)\n",
      "  2023375972752: TensorSpec(shape=(), dtype=tf.resource, name=None)\n",
      "  2023376405712: TensorSpec(shape=(), dtype=tf.resource, name=None)\n",
      "  2023376407056: TensorSpec(shape=(), dtype=tf.resource, name=None)\n",
      "  2023376407824: TensorSpec(shape=(), dtype=tf.resource, name=None)\n",
      "  2023376407632: TensorSpec(shape=(), dtype=tf.resource, name=None)\n",
      "  2023376408592: TensorSpec(shape=(), dtype=tf.resource, name=None)\n",
      "✅ Model TFLite saved to '../models/model.tflite'\n"
     ]
    }
   ],
   "source": [
    "import tensorflow as tf\n",
    "\n",
    "model = tf.keras.models.load_model('../models/model.h5')\n",
    "\n",
    "converter = tf.lite.TFLiteConverter.from_keras_model(model)\n",
    "tflite_model = converter.convert()\n",
    "\n",
    "with open('../models/model.tflite', 'wb') as f:\n",
    "    f.write(tflite_model)\n",
    "\n",
    "print(\"✅ Model TFLite saved to '../models/model.tflite'\")"
   ]
  }
 ],
 "metadata": {
  "kernelspec": {
   "display_name": "Python 3 (ipykernel)",
   "language": "python",
   "name": "python3"
  },
  "language_info": {
   "codemirror_mode": {
    "name": "ipython",
    "version": 3
   },
   "file_extension": ".py",
   "mimetype": "text/x-python",
   "name": "python",
   "nbconvert_exporter": "python",
   "pygments_lexer": "ipython3",
   "version": "3.12.10"
  }
 },
 "nbformat": 4,
 "nbformat_minor": 5
}
