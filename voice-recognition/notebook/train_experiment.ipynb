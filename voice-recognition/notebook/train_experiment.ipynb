{
 "cells": [
  {
   "cell_type": "code",
   "execution_count": 19,
   "id": "7d5efda4-c622-4a04-bb49-f3c8b53e570e",
   "metadata": {},
   "outputs": [
    {
     "name": "stdout",
     "output_type": "stream",
     "text": [
      "Loaded data train: (14486, 64, 64, 1), Test: (3622, 64, 64, 1)\n"
     ]
    }
   ],
   "source": [
    "# Setup\n",
    "import os\n",
    "import numpy as np\n",
    "import tensorflow as tf\n",
    "from sklearn.model_selection import train_test_split\n",
    "from sklearn.utils import class_weight\n",
    "from tensorflow.keras import layers, models\n",
    "from tensorflow.keras.callbacks import EarlyStopping, ReduceLROnPlateau\n",
    "\n",
    "# Load Data\n",
    "DATA_DIR = '../data/spectogram/'\n",
    "X, y = [], []\n",
    "\n",
    "def add_noise(spectrogram, noise_level=0.02):\n",
    "    noise = np.random.normal(0, noise_level, spectrogram.shape)\n",
    "    return np.clip(spectrogram + noise, 0, 1)\n",
    "\n",
    "def time_mask(spec, mask_size=10):\n",
    "    spec = spec.copy()\n",
    "    t = np.random.randint(0, spec.shape[1] - mask_size)\n",
    "    spec[:, t:t+mask_size] = 0\n",
    "    return spec\n",
    "\n",
    "# Load spectrograms and augment\n",
    "for label, folder in enumerate(['nonhuman', 'human']):\n",
    "    folder_path = os.path.join(DATA_DIR, folder)\n",
    "    for file in os.listdir(folder_path):\n",
    "        if file.endswith('.npy'):\n",
    "            spectrogram = np.load(os.path.join(folder_path, file))\n",
    "            if np.max(spectrogram) > -100 and not np.isnan(spectrogram).any():\n",
    "                spectrogram = (spectrogram + 80) / 80  # normalize to [0,1]\n",
    "                X.append(spectrogram)\n",
    "                y.append(label)\n",
    "\n",
    "                # Augmentations\n",
    "                X.append(add_noise(spectrogram, noise_level=0.03))\n",
    "                y.append(label)\n",
    "                X.append(time_mask(spectrogram))\n",
    "                y.append(label)\n",
    "\n",
    "X = np.array(X).reshape(-1, 64, 64, 1)\n",
    "y = np.array(y)\n",
    "\n",
    "X_train, X_test, y_train, y_test = train_test_split(\n",
    "    X, y, test_size=0.2, stratify=y, random_state=42\n",
    ")\n",
    "\n",
    "print(f\"Loaded data train: {X_train.shape}, Test: {X_test.shape}\")"
   ]
  },
  {
   "cell_type": "code",
   "execution_count": 20,
   "id": "40fccc65-daa7-49d6-a915-fa7c91f48561",
   "metadata": {},
   "outputs": [
    {
     "name": "stdout",
     "output_type": "stream",
     "text": [
      "Train label distribusi:\n",
      "{0: 5397, 1: 9089}\n",
      "Test label distribusi:\n",
      "{0: 1350, 1: 2272}\n",
      "(array([0, 1]), array([5397, 9089], dtype=int64))\n",
      "(array([0, 1]), array([1350, 2272], dtype=int64))\n",
      "Train min: 0.0, max: 1.0\n",
      "Test min: 0.0, max: 1.0\n",
      "[5397 9089]\n",
      "[1350 2272]\n"
     ]
    }
   ],
   "source": [
    "import numpy as np\n",
    "\n",
    "print(\"Train label distribusi:\")\n",
    "unique, counts = np.unique(y_train, return_counts=True)\n",
    "print(dict(zip(unique, counts)))\n",
    "\n",
    "print(\"Test label distribusi:\")\n",
    "unique, counts = np.unique(y_test, return_counts=True)\n",
    "print(dict(zip(unique, counts)))\n",
    "\n",
    "print(np.unique(y_train, return_counts=True))\n",
    "print(np.unique(y_test, return_counts=True))\n",
    "\n",
    "print(f\"Train min: {X_train.min()}, max: {X_train.max()}\")\n",
    "print(f\"Test min: {X_test.min()}, max: {X_test.max()}\")\n",
    "\n",
    "print(np.bincount(y_train))\n",
    "print(np.bincount(y_test))"
   ]
  },
  {
   "cell_type": "code",
   "execution_count": 21,
   "id": "69d5939f-61a1-4ccd-a71c-60e2e79bcfae",
   "metadata": {},
   "outputs": [
    {
     "name": "stderr",
     "output_type": "stream",
     "text": [
      "C:\\Users\\Asus\\AppData\\Local\\Packages\\PythonSoftwareFoundation.Python.3.12_qbz5n2kfra8p0\\LocalCache\\local-packages\\Python312\\site-packages\\keras\\src\\layers\\convolutional\\base_conv.py:107: UserWarning: Do not pass an `input_shape`/`input_dim` argument to a layer. When using Sequential models, prefer using an `Input(shape)` object as the first layer in the model instead.\n",
      "  super().__init__(activity_regularizer=activity_regularizer, **kwargs)\n"
     ]
    },
    {
     "name": "stdout",
     "output_type": "stream",
     "text": [
      "Epoch 1/50\n",
      "\u001b[1m227/227\u001b[0m \u001b[32m━━━━━━━━━━━━━━━━━━━━\u001b[0m\u001b[37m\u001b[0m \u001b[1m121s\u001b[0m 505ms/step - accuracy: 0.6406 - loss: 0.6414 - val_accuracy: 0.4818 - val_loss: 0.7145 - learning_rate: 5.0000e-04\n",
      "Epoch 2/50\n",
      "\u001b[1m227/227\u001b[0m \u001b[32m━━━━━━━━━━━━━━━━━━━━\u001b[0m\u001b[37m\u001b[0m \u001b[1m118s\u001b[0m 400ms/step - accuracy: 0.7931 - loss: 0.4218 - val_accuracy: 0.5204 - val_loss: 0.6990 - learning_rate: 5.0000e-04\n",
      "Epoch 3/50\n",
      "\u001b[1m227/227\u001b[0m \u001b[32m━━━━━━━━━━━━━━━━━━━━\u001b[0m\u001b[37m\u001b[0m \u001b[1m90s\u001b[0m 397ms/step - accuracy: 0.8655 - loss: 0.2967 - val_accuracy: 0.6438 - val_loss: 0.7054 - learning_rate: 5.0000e-04\n",
      "Epoch 4/50\n",
      "\u001b[1m227/227\u001b[0m \u001b[32m━━━━━━━━━━━━━━━━━━━━\u001b[0m\u001b[37m\u001b[0m \u001b[1m92s\u001b[0m 405ms/step - accuracy: 0.8882 - loss: 0.2485 - val_accuracy: 0.8840 - val_loss: 0.2664 - learning_rate: 5.0000e-04\n",
      "Epoch 5/50\n",
      "\u001b[1m227/227\u001b[0m \u001b[32m━━━━━━━━━━━━━━━━━━━━\u001b[0m\u001b[37m\u001b[0m \u001b[1m89s\u001b[0m 390ms/step - accuracy: 0.9123 - loss: 0.1961 - val_accuracy: 0.7885 - val_loss: 0.5353 - learning_rate: 5.0000e-04\n",
      "Epoch 6/50\n",
      "\u001b[1m227/227\u001b[0m \u001b[32m━━━━━━━━━━━━━━━━━━━━\u001b[0m\u001b[37m\u001b[0m \u001b[1m90s\u001b[0m 395ms/step - accuracy: 0.9349 - loss: 0.1523 - val_accuracy: 0.8539 - val_loss: 0.3627 - learning_rate: 5.0000e-04\n",
      "Epoch 7/50\n",
      "\u001b[1m227/227\u001b[0m \u001b[32m━━━━━━━━━━━━━━━━━━━━\u001b[0m\u001b[37m\u001b[0m \u001b[1m95s\u001b[0m 418ms/step - accuracy: 0.9453 - loss: 0.1279 - val_accuracy: 0.8545 - val_loss: 0.4652 - learning_rate: 5.0000e-04\n",
      "Epoch 8/50\n",
      "\u001b[1m227/227\u001b[0m \u001b[32m━━━━━━━━━━━━━━━━━━━━\u001b[0m\u001b[37m\u001b[0m \u001b[1m94s\u001b[0m 414ms/step - accuracy: 0.9565 - loss: 0.1076 - val_accuracy: 0.8592 - val_loss: 0.3625 - learning_rate: 5.0000e-04\n",
      "Epoch 9/50\n",
      "\u001b[1m227/227\u001b[0m \u001b[32m━━━━━━━━━━━━━━━━━━━━\u001b[0m\u001b[37m\u001b[0m \u001b[1m95s\u001b[0m 418ms/step - accuracy: 0.9619 - loss: 0.0942 - val_accuracy: 0.9081 - val_loss: 0.2536 - learning_rate: 5.0000e-04\n",
      "Epoch 10/50\n",
      "\u001b[1m227/227\u001b[0m \u001b[32m━━━━━━━━━━━━━━━━━━━━\u001b[0m\u001b[37m\u001b[0m \u001b[1m89s\u001b[0m 393ms/step - accuracy: 0.9599 - loss: 0.0993 - val_accuracy: 0.8932 - val_loss: 0.3265 - learning_rate: 5.0000e-04\n",
      "Epoch 11/50\n",
      "\u001b[1m227/227\u001b[0m \u001b[32m━━━━━━━━━━━━━━━━━━━━\u001b[0m\u001b[37m\u001b[0m \u001b[1m91s\u001b[0m 402ms/step - accuracy: 0.9792 - loss: 0.0536 - val_accuracy: 0.9371 - val_loss: 0.1863 - learning_rate: 5.0000e-04\n",
      "Epoch 12/50\n",
      "\u001b[1m227/227\u001b[0m \u001b[32m━━━━━━━━━━━━━━━━━━━━\u001b[0m\u001b[37m\u001b[0m \u001b[1m90s\u001b[0m 397ms/step - accuracy: 0.9839 - loss: 0.0452 - val_accuracy: 0.9313 - val_loss: 0.1956 - learning_rate: 5.0000e-04\n",
      "Epoch 13/50\n",
      "\u001b[1m227/227\u001b[0m \u001b[32m━━━━━━━━━━━━━━━━━━━━\u001b[0m\u001b[37m\u001b[0m \u001b[1m95s\u001b[0m 417ms/step - accuracy: 0.9882 - loss: 0.0331 - val_accuracy: 0.9263 - val_loss: 0.2227 - learning_rate: 5.0000e-04\n",
      "Epoch 14/50\n",
      "\u001b[1m227/227\u001b[0m \u001b[32m━━━━━━━━━━━━━━━━━━━━\u001b[0m\u001b[37m\u001b[0m \u001b[1m97s\u001b[0m 426ms/step - accuracy: 0.9830 - loss: 0.0470 - val_accuracy: 0.9387 - val_loss: 0.2036 - learning_rate: 5.0000e-04\n",
      "Epoch 15/50\n",
      "\u001b[1m227/227\u001b[0m \u001b[32m━━━━━━━━━━━━━━━━━━━━\u001b[0m\u001b[37m\u001b[0m \u001b[1m91s\u001b[0m 402ms/step - accuracy: 0.9856 - loss: 0.0363 - val_accuracy: 0.9373 - val_loss: 0.1932 - learning_rate: 5.0000e-04\n",
      "Epoch 16/50\n",
      "\u001b[1m227/227\u001b[0m \u001b[32m━━━━━━━━━━━━━━━━━━━━\u001b[0m\u001b[37m\u001b[0m \u001b[1m0s\u001b[0m 376ms/step - accuracy: 0.9925 - loss: 0.0222\n",
      "Epoch 16: ReduceLROnPlateau reducing learning rate to 0.0002500000118743628.\n",
      "\u001b[1m227/227\u001b[0m \u001b[32m━━━━━━━━━━━━━━━━━━━━\u001b[0m\u001b[37m\u001b[0m \u001b[1m91s\u001b[0m 400ms/step - accuracy: 0.9925 - loss: 0.0223 - val_accuracy: 0.9083 - val_loss: 0.2386 - learning_rate: 5.0000e-04\n",
      "Epoch 17/50\n",
      "\u001b[1m227/227\u001b[0m \u001b[32m━━━━━━━━━━━━━━━━━━━━\u001b[0m\u001b[37m\u001b[0m \u001b[1m94s\u001b[0m 413ms/step - accuracy: 0.9971 - loss: 0.0116 - val_accuracy: 0.9622 - val_loss: 0.1417 - learning_rate: 2.5000e-04\n",
      "Epoch 18/50\n",
      "\u001b[1m227/227\u001b[0m \u001b[32m━━━━━━━━━━━━━━━━━━━━\u001b[0m\u001b[37m\u001b[0m \u001b[1m89s\u001b[0m 394ms/step - accuracy: 0.9976 - loss: 0.0073 - val_accuracy: 0.9636 - val_loss: 0.1341 - learning_rate: 2.5000e-04\n",
      "Epoch 19/50\n",
      "\u001b[1m227/227\u001b[0m \u001b[32m━━━━━━━━━━━━━━━━━━━━\u001b[0m\u001b[37m\u001b[0m \u001b[1m92s\u001b[0m 405ms/step - accuracy: 0.9982 - loss: 0.0049 - val_accuracy: 0.9682 - val_loss: 0.1077 - learning_rate: 2.5000e-04\n",
      "Epoch 20/50\n",
      "\u001b[1m227/227\u001b[0m \u001b[32m━━━━━━━━━━━━━━━━━━━━\u001b[0m\u001b[37m\u001b[0m \u001b[1m90s\u001b[0m 398ms/step - accuracy: 0.9981 - loss: 0.0047 - val_accuracy: 0.9663 - val_loss: 0.1270 - learning_rate: 2.5000e-04\n",
      "Epoch 21/50\n",
      "\u001b[1m227/227\u001b[0m \u001b[32m━━━━━━━━━━━━━━━━━━━━\u001b[0m\u001b[37m\u001b[0m \u001b[1m93s\u001b[0m 412ms/step - accuracy: 0.9987 - loss: 0.0050 - val_accuracy: 0.9682 - val_loss: 0.1217 - learning_rate: 2.5000e-04\n",
      "Epoch 22/50\n",
      "\u001b[1m227/227\u001b[0m \u001b[32m━━━━━━━━━━━━━━━━━━━━\u001b[0m\u001b[37m\u001b[0m \u001b[1m92s\u001b[0m 407ms/step - accuracy: 0.9931 - loss: 0.0193 - val_accuracy: 0.9630 - val_loss: 0.1171 - learning_rate: 2.5000e-04\n",
      "Epoch 23/50\n",
      "\u001b[1m227/227\u001b[0m \u001b[32m━━━━━━━━━━━━━━━━━━━━\u001b[0m\u001b[37m\u001b[0m \u001b[1m104s\u001b[0m 457ms/step - accuracy: 0.9980 - loss: 0.0052 - val_accuracy: 0.9740 - val_loss: 0.1032 - learning_rate: 2.5000e-04\n",
      "Epoch 24/50\n",
      "\u001b[1m227/227\u001b[0m \u001b[32m━━━━━━━━━━━━━━━━━━━━\u001b[0m\u001b[37m\u001b[0m \u001b[1m105s\u001b[0m 460ms/step - accuracy: 0.9993 - loss: 0.0028 - val_accuracy: 0.9680 - val_loss: 0.1449 - learning_rate: 2.5000e-04\n",
      "Epoch 25/50\n",
      "\u001b[1m227/227\u001b[0m \u001b[32m━━━━━━━━━━━━━━━━━━━━\u001b[0m\u001b[37m\u001b[0m \u001b[1m103s\u001b[0m 453ms/step - accuracy: 0.9951 - loss: 0.0157 - val_accuracy: 0.9569 - val_loss: 0.1552 - learning_rate: 2.5000e-04\n",
      "Epoch 26/50\n",
      "\u001b[1m227/227\u001b[0m \u001b[32m━━━━━━━━━━━━━━━━━━━━\u001b[0m\u001b[37m\u001b[0m \u001b[1m95s\u001b[0m 420ms/step - accuracy: 0.9964 - loss: 0.0098 - val_accuracy: 0.9716 - val_loss: 0.1059 - learning_rate: 2.5000e-04\n",
      "Epoch 27/50\n",
      "\u001b[1m227/227\u001b[0m \u001b[32m━━━━━━━━━━━━━━━━━━━━\u001b[0m\u001b[37m\u001b[0m \u001b[1m93s\u001b[0m 408ms/step - accuracy: 0.9988 - loss: 0.0043 - val_accuracy: 0.9713 - val_loss: 0.1108 - learning_rate: 2.5000e-04\n",
      "Epoch 28/50\n",
      "\u001b[1m227/227\u001b[0m \u001b[32m━━━━━━━━━━━━━━━━━━━━\u001b[0m\u001b[37m\u001b[0m \u001b[1m0s\u001b[0m 376ms/step - accuracy: 0.9978 - loss: 0.0064\n",
      "Epoch 28: ReduceLROnPlateau reducing learning rate to 0.0001250000059371814.\n",
      "\u001b[1m227/227\u001b[0m \u001b[32m━━━━━━━━━━━━━━━━━━━━\u001b[0m\u001b[37m\u001b[0m \u001b[1m91s\u001b[0m 401ms/step - accuracy: 0.9978 - loss: 0.0064 - val_accuracy: 0.9611 - val_loss: 0.1498 - learning_rate: 2.5000e-04\n",
      "Epoch 29/50\n",
      "\u001b[1m227/227\u001b[0m \u001b[32m━━━━━━━━━━━━━━━━━━━━\u001b[0m\u001b[37m\u001b[0m \u001b[1m92s\u001b[0m 407ms/step - accuracy: 0.9962 - loss: 0.0084 - val_accuracy: 0.9520 - val_loss: 0.1943 - learning_rate: 1.2500e-04\n",
      "Epoch 30/50\n",
      "\u001b[1m227/227\u001b[0m \u001b[32m━━━━━━━━━━━━━━━━━━━━\u001b[0m\u001b[37m\u001b[0m \u001b[1m96s\u001b[0m 424ms/step - accuracy: 0.9997 - loss: 0.0017 - val_accuracy: 0.9749 - val_loss: 0.1036 - learning_rate: 1.2500e-04\n",
      "Epoch 31/50\n",
      "\u001b[1m227/227\u001b[0m \u001b[32m━━━━━━━━━━━━━━━━━━━━\u001b[0m\u001b[37m\u001b[0m \u001b[1m93s\u001b[0m 410ms/step - accuracy: 0.9999 - loss: 9.6431e-04 - val_accuracy: 0.9779 - val_loss: 0.0909 - learning_rate: 1.2500e-04\n",
      "Epoch 32/50\n",
      "\u001b[1m227/227\u001b[0m \u001b[32m━━━━━━━━━━━━━━━━━━━━\u001b[0m\u001b[37m\u001b[0m \u001b[1m109s\u001b[0m 481ms/step - accuracy: 1.0000 - loss: 7.3565e-04 - val_accuracy: 0.9796 - val_loss: 0.0954 - learning_rate: 1.2500e-04\n",
      "Epoch 33/50\n",
      "\u001b[1m227/227\u001b[0m \u001b[32m━━━━━━━━━━━━━━━━━━━━\u001b[0m\u001b[37m\u001b[0m \u001b[1m99s\u001b[0m 437ms/step - accuracy: 1.0000 - loss: 5.1510e-04 - val_accuracy: 0.9710 - val_loss: 0.1138 - learning_rate: 1.2500e-04\n",
      "Epoch 34/50\n",
      "\u001b[1m227/227\u001b[0m \u001b[32m━━━━━━━━━━━━━━━━━━━━\u001b[0m\u001b[37m\u001b[0m \u001b[1m93s\u001b[0m 408ms/step - accuracy: 1.0000 - loss: 3.7527e-04 - val_accuracy: 0.9749 - val_loss: 0.1139 - learning_rate: 1.2500e-04\n",
      "Epoch 35/50\n",
      "\u001b[1m227/227\u001b[0m \u001b[32m━━━━━━━━━━━━━━━━━━━━\u001b[0m\u001b[37m\u001b[0m \u001b[1m93s\u001b[0m 409ms/step - accuracy: 0.9999 - loss: 7.8525e-04 - val_accuracy: 0.9729 - val_loss: 0.1266 - learning_rate: 1.2500e-04\n",
      "Epoch 36/50\n",
      "\u001b[1m227/227\u001b[0m \u001b[32m━━━━━━━━━━━━━━━━━━━━\u001b[0m\u001b[37m\u001b[0m \u001b[1m0s\u001b[0m 389ms/step - accuracy: 1.0000 - loss: 4.6748e-04\n",
      "Epoch 36: ReduceLROnPlateau reducing learning rate to 6.25000029685907e-05.\n",
      "\u001b[1m227/227\u001b[0m \u001b[32m━━━━━━━━━━━━━━━━━━━━\u001b[0m\u001b[37m\u001b[0m \u001b[1m94s\u001b[0m 414ms/step - accuracy: 1.0000 - loss: 4.6756e-04 - val_accuracy: 0.9774 - val_loss: 0.0970 - learning_rate: 1.2500e-04\n",
      "Epoch 37/50\n",
      "\u001b[1m227/227\u001b[0m \u001b[32m━━━━━━━━━━━━━━━━━━━━\u001b[0m\u001b[37m\u001b[0m \u001b[1m94s\u001b[0m 413ms/step - accuracy: 1.0000 - loss: 5.5175e-04 - val_accuracy: 0.9787 - val_loss: 0.0992 - learning_rate: 6.2500e-05\n",
      "Epoch 38/50\n",
      "\u001b[1m227/227\u001b[0m \u001b[32m━━━━━━━━━━━━━━━━━━━━\u001b[0m\u001b[37m\u001b[0m \u001b[1m92s\u001b[0m 405ms/step - accuracy: 1.0000 - loss: 4.4464e-04 - val_accuracy: 0.9735 - val_loss: 0.1063 - learning_rate: 6.2500e-05\n",
      "Epoch 39/50\n",
      "\u001b[1m227/227\u001b[0m \u001b[32m━━━━━━━━━━━━━━━━━━━━\u001b[0m\u001b[37m\u001b[0m \u001b[1m1492s\u001b[0m 7s/step - accuracy: 1.0000 - loss: 3.4159e-04 - val_accuracy: 0.9765 - val_loss: 0.1054 - learning_rate: 6.2500e-05\n",
      "Epoch 40/50\n",
      "\u001b[1m227/227\u001b[0m \u001b[32m━━━━━━━━━━━━━━━━━━━━\u001b[0m\u001b[37m\u001b[0m \u001b[1m113s\u001b[0m 499ms/step - accuracy: 1.0000 - loss: 3.6652e-04 - val_accuracy: 0.9779 - val_loss: 0.0984 - learning_rate: 6.2500e-05\n",
      "Epoch 41/50\n",
      "\u001b[1m227/227\u001b[0m \u001b[32m━━━━━━━━━━━━━━━━━━━━\u001b[0m\u001b[37m\u001b[0m \u001b[1m0s\u001b[0m 430ms/step - accuracy: 1.0000 - loss: 2.0426e-04\n",
      "Epoch 41: ReduceLROnPlateau reducing learning rate to 3.125000148429535e-05.\n",
      "\u001b[1m227/227\u001b[0m \u001b[32m━━━━━━━━━━━━━━━━━━━━\u001b[0m\u001b[37m\u001b[0m \u001b[1m105s\u001b[0m 462ms/step - accuracy: 1.0000 - loss: 2.0424e-04 - val_accuracy: 0.9790 - val_loss: 0.1012 - learning_rate: 6.2500e-05\n",
      "114/114 - 8s - 69ms/step - accuracy: 0.9779 - loss: 0.0909\n",
      "Test Accuracy: 0.9779\n"
     ]
    }
   ],
   "source": [
    "model = models.Sequential([\n",
    "    layers.Conv2D(32, (3,3), activation='relu', input_shape=(64, 64, 1)),\n",
    "    layers.BatchNormalization(),\n",
    "    layers.Conv2D(32, (3,3), activation='relu'),\n",
    "    layers.BatchNormalization(),\n",
    "    layers.MaxPooling2D((2,2)),\n",
    "\n",
    "    layers.Conv2D(64, (3,3), activation='relu'),\n",
    "    layers.BatchNormalization(),\n",
    "    layers.Conv2D(64, (3,3), activation='relu'),\n",
    "    layers.BatchNormalization(),\n",
    "    layers.MaxPooling2D((2,2)),\n",
    "\n",
    "    layers.Conv2D(128, (3,3), activation='relu'),\n",
    "    layers.BatchNormalization(),\n",
    "    layers.Conv2D(128, (3,3), activation='relu'),\n",
    "    layers.BatchNormalization(),\n",
    "\n",
    "    layers.GlobalAveragePooling2D(),\n",
    "    layers.Dense(128, activation='relu'),\n",
    "    layers.Dropout(0.5),\n",
    "    layers.Dense(1, activation='sigmoid')\n",
    "])\n",
    "\n",
    "model.compile(\n",
    "    optimizer=tf.keras.optimizers.Adam(learning_rate=0.0005),\n",
    "    loss='binary_crossentropy',\n",
    "    metrics=['accuracy']\n",
    ")\n",
    "\n",
    "class_weights = dict(enumerate(\n",
    "    class_weight.compute_class_weight('balanced', classes=np.unique(y_train), y=y_train)\n",
    "))\n",
    "\n",
    "early_stop = EarlyStopping(monitor='val_loss', patience=10, restore_best_weights=True)\n",
    "reduce_lr = ReduceLROnPlateau(monitor='val_loss', factor=0.5, patience=5, min_lr=1e-6, verbose=1)\n",
    "\n",
    "history = model.fit(\n",
    "    X_train, y_train,\n",
    "    validation_data=(X_test, y_test),\n",
    "    batch_size=64,\n",
    "    epochs=50,\n",
    "    class_weight=class_weights,\n",
    "    callbacks=[early_stop, reduce_lr],\n",
    "    verbose=1\n",
    ")\n",
    "\n",
    "test_loss, test_acc = model.evaluate(X_test, y_test, verbose=2)\n",
    "print(f\"Test Accuracy: {test_acc:.4f}\")"
   ]
  },
  {
   "cell_type": "code",
   "execution_count": 22,
   "id": "699eb96b-44a0-4601-9c17-5a68532ab4fa",
   "metadata": {},
   "outputs": [
    {
     "name": "stdout",
     "output_type": "stream",
     "text": [
      "\u001b[1m114/114\u001b[0m \u001b[32m━━━━━━━━━━━━━━━━━━━━\u001b[0m\u001b[37m\u001b[0m \u001b[1m9s\u001b[0m 71ms/step\n",
      "              precision    recall  f1-score   support\n",
      "\n",
      "           0     0.9711    0.9696    0.9703      1350\n",
      "           1     0.9820    0.9828    0.9824      2272\n",
      "\n",
      "    accuracy                         0.9779      3622\n",
      "   macro avg     0.9765    0.9762    0.9764      3622\n",
      "weighted avg     0.9779    0.9779    0.9779      3622\n",
      "\n",
      "Confusion Matrix:\n",
      "[[1309   41]\n",
      " [  39 2233]]\n"
     ]
    }
   ],
   "source": [
    "from sklearn.metrics import classification_report, confusion_matrix\n",
    "\n",
    "y_pred_prob = model.predict(X_test)\n",
    "\n",
    "y_pred = (y_pred_prob > 0.5).astype(int)\n",
    "\n",
    "print(classification_report(y_test, y_pred, digits=4))\n",
    "\n",
    "print(\"Confusion Matrix:\")\n",
    "print(confusion_matrix(y_test, y_pred))"
   ]
  },
  {
   "cell_type": "code",
   "execution_count": 24,
   "id": "f508bdac-75b5-4034-aa1c-bad35e032a7f",
   "metadata": {},
   "outputs": [
    {
     "name": "stderr",
     "output_type": "stream",
     "text": [
      "WARNING:absl:You are saving your model as an HDF5 file via `model.save()` or `keras.saving.save_model(model)`. This file format is considered legacy. We recommend using instead the native Keras format, e.g. `model.save('my_model.keras')` or `keras.saving.save_model(model, 'my_model.keras')`. \n"
     ]
    },
    {
     "name": "stdout",
     "output_type": "stream",
     "text": [
      "Model saved to '../models/model.h5'\n"
     ]
    }
   ],
   "source": [
    "model.save('../models/model.h5')\n",
    "print(\"Model saved to '../models/model.h5'\")"
   ]
  },
  {
   "cell_type": "code",
   "execution_count": 25,
   "id": "0f4710d5-64a5-465b-ba75-5520c6972b46",
   "metadata": {},
   "outputs": [
    {
     "name": "stderr",
     "output_type": "stream",
     "text": [
      "WARNING:absl:Compiled the loaded model, but the compiled metrics have yet to be built. `model.compile_metrics` will be empty until you train or evaluate the model.\n"
     ]
    },
    {
     "name": "stdout",
     "output_type": "stream",
     "text": [
      "INFO:tensorflow:Assets written to: C:\\Users\\Asus\\AppData\\Local\\Temp\\tmpqol9pa80\\assets\n"
     ]
    },
    {
     "name": "stderr",
     "output_type": "stream",
     "text": [
      "INFO:tensorflow:Assets written to: C:\\Users\\Asus\\AppData\\Local\\Temp\\tmpqol9pa80\\assets\n"
     ]
    },
    {
     "name": "stdout",
     "output_type": "stream",
     "text": [
      "Saved artifact at 'C:\\Users\\Asus\\AppData\\Local\\Temp\\tmpqol9pa80'. The following endpoints are available:\n",
      "\n",
      "* Endpoint 'serve'\n",
      "  args_0 (POSITIONAL_ONLY): TensorSpec(shape=(None, 64, 64, 1), dtype=tf.float32, name='input_layer_3')\n",
      "Output Type:\n",
      "  TensorSpec(shape=(None, 1), dtype=tf.float32, name=None)\n",
      "Captures:\n",
      "  2023937677200: TensorSpec(shape=(), dtype=tf.resource, name=None)\n",
      "  2023937676048: TensorSpec(shape=(), dtype=tf.resource, name=None)\n",
      "  2023937687376: TensorSpec(shape=(), dtype=tf.resource, name=None)\n",
      "  2023917454928: TensorSpec(shape=(), dtype=tf.resource, name=None)\n",
      "  2023937676624: TensorSpec(shape=(), dtype=tf.resource, name=None)\n",
      "  2023937683920: TensorSpec(shape=(), dtype=tf.resource, name=None)\n",
      "  2023917455888: TensorSpec(shape=(), dtype=tf.resource, name=None)\n",
      "  2023917456464: TensorSpec(shape=(), dtype=tf.resource, name=None)\n",
      "  2023917456656: TensorSpec(shape=(), dtype=tf.resource, name=None)\n",
      "  2023917457232: TensorSpec(shape=(), dtype=tf.resource, name=None)\n",
      "  2023917456080: TensorSpec(shape=(), dtype=tf.resource, name=None)\n",
      "  2023917456272: TensorSpec(shape=(), dtype=tf.resource, name=None)\n",
      "  2023917458192: TensorSpec(shape=(), dtype=tf.resource, name=None)\n",
      "  2023917455504: TensorSpec(shape=(), dtype=tf.resource, name=None)\n",
      "  2023917458960: TensorSpec(shape=(), dtype=tf.resource, name=None)\n",
      "  2023917454352: TensorSpec(shape=(), dtype=tf.resource, name=None)\n",
      "  2023917458384: TensorSpec(shape=(), dtype=tf.resource, name=None)\n",
      "  2023917458576: TensorSpec(shape=(), dtype=tf.resource, name=None)\n",
      "  2023885399696: TensorSpec(shape=(), dtype=tf.resource, name=None)\n",
      "  2023917455120: TensorSpec(shape=(), dtype=tf.resource, name=None)\n",
      "  2023917453968: TensorSpec(shape=(), dtype=tf.resource, name=None)\n",
      "  2023937064208: TensorSpec(shape=(), dtype=tf.resource, name=None)\n",
      "  2023917466448: TensorSpec(shape=(), dtype=tf.resource, name=None)\n",
      "  2023917466640: TensorSpec(shape=(), dtype=tf.resource, name=None)\n",
      "  2023937063056: TensorSpec(shape=(), dtype=tf.resource, name=None)\n",
      "  2023937062288: TensorSpec(shape=(), dtype=tf.resource, name=None)\n",
      "  2023937062864: TensorSpec(shape=(), dtype=tf.resource, name=None)\n",
      "  2023937061712: TensorSpec(shape=(), dtype=tf.resource, name=None)\n",
      "  2023937064784: TensorSpec(shape=(), dtype=tf.resource, name=None)\n",
      "  2023937064400: TensorSpec(shape=(), dtype=tf.resource, name=None)\n",
      "  2023937061520: TensorSpec(shape=(), dtype=tf.resource, name=None)\n",
      "  2023937060560: TensorSpec(shape=(), dtype=tf.resource, name=None)\n",
      "  2023937064592: TensorSpec(shape=(), dtype=tf.resource, name=None)\n",
      "  2023937059600: TensorSpec(shape=(), dtype=tf.resource, name=None)\n",
      "  2023937063824: TensorSpec(shape=(), dtype=tf.resource, name=None)\n",
      "  2023937061328: TensorSpec(shape=(), dtype=tf.resource, name=None)\n",
      "  2023937059408: TensorSpec(shape=(), dtype=tf.resource, name=None)\n",
      "  2023937060368: TensorSpec(shape=(), dtype=tf.resource, name=None)\n",
      "  2023902866192: TensorSpec(shape=(), dtype=tf.resource, name=None)\n",
      "  2023884692880: TensorSpec(shape=(), dtype=tf.resource, name=None)\n",
      "Model TFLite saved to '../models/model.tflite'\n"
     ]
    }
   ],
   "source": [
    "import tensorflow as tf\n",
    "\n",
    "model = tf.keras.models.load_model('../models/model.h5')\n",
    "\n",
    "converter = tf.lite.TFLiteConverter.from_keras_model(model)\n",
    "tflite_model = converter.convert()\n",
    "\n",
    "with open('../models/model.tflite', 'wb') as f:\n",
    "    f.write(tflite_model)\n",
    "\n",
    "print(\"Model TFLite saved to '../models/model.tflite'\")"
   ]
  }
 ],
 "metadata": {
  "kernelspec": {
   "display_name": "Python 3 (ipykernel)",
   "language": "python",
   "name": "python3"
  },
  "language_info": {
   "codemirror_mode": {
    "name": "ipython",
    "version": 3
   },
   "file_extension": ".py",
   "mimetype": "text/x-python",
   "name": "python",
   "nbconvert_exporter": "python",
   "pygments_lexer": "ipython3",
   "version": "3.12.10"
  }
 },
 "nbformat": 4,
 "nbformat_minor": 5
}
